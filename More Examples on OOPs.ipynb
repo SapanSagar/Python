{
 "cells": [
  {
   "cell_type": "markdown",
   "metadata": {},
   "source": [
    "Example: Say Car is any class.\n",
    "\n",
    "maruti = Car()\n",
    "bmw = Car()\n",
    "honda = Car()\n",
    "So after creating above instances. We want to count how many instances are created of Car class.\n",
    "\n",
    "For above example no of instances = 3.\n",
    "\n",
    "Write a program for above problem."
   ]
  },
  {
   "cell_type": "code",
   "execution_count": 7,
   "metadata": {},
   "outputs": [
    {
     "name": "stdout",
     "output_type": "stream",
     "text": [
      "3\n"
     ]
    }
   ],
   "source": [
    "class Car:\n",
    "\n",
    "    __counter=0\n",
    "    def __init__(self):\n",
    "        Car.__counter+=1\n",
    "    \n",
    "    def get_counter():\n",
    "        return Car.__counter\n",
    "\n",
    "\n",
    "p1=Car()\n",
    "p2=Car()\n",
    "p3=Car()\n",
    "\n",
    "print(Car.get_counter())\n",
    "\n"
   ]
  },
  {
   "cell_type": "markdown",
   "metadata": {},
   "source": [
    "Q-2: Create a deck of cards class. Internally, the deck of cards should use another class, a card class. Your requirements are:\n",
    "The Deck class should have a deal method to deal a single card from the deck\n",
    "After a card is dealt, it is removed from the deck.\n",
    "There should be a shuffle method which makes sure the deck of cards has all 52 cards and then rearranges them randomly.\n",
    "The Card class should have a suit (Hearts, Diamonds, Clubs, Spades) and a value (A,2,3,4,5,6,7,8,9,10,J,Q,K)\n",
    "Deck Class\n",
    "\n",
    "It is class of all possible cards in a deck. Total 52 cards.\n",
    "Methods - deal() it will take out one card from the deck of cards.\n",
    "Deck of cards should get shuffeled while creating the deck object.\n",
    "no of cards remaining in deck - <number> should dsiplay on printing any deck object.\n",
    "Card class\n",
    "\n",
    "It is a class of card\n",
    "Atrributes - suit and value\n",
    "<suit> of <value> should dsiplay on printing any card object."
   ]
  },
  {
   "cell_type": "code",
   "execution_count": 8,
   "metadata": {},
   "outputs": [],
   "source": [
    "class Card:\n",
    "    def __init__(self,suit,value):\n",
    "        self.suit=suit\n",
    "        self.value=value\n",
    "\n",
    "    def __repr__(self):\n",
    "        return \"{}->{}\".format(self.suit,self.value)\n",
    "    \n",
    "class Deck:\n",
    "    def __init__(self):\n",
    "        suits=['Clubs','Diamond','Spades','Hearts']\n",
    "        values=['2','3','4','5','6','7','8','9','10','J','Q','K','A']\n",
    "        self.cards= [Card(suit,value) for suit in suits for value in values]\n",
    "    def __str__(self):\n",
    "        return \"Remaining Cards : \"+str(len(self.cards))\n",
    "    \n",
    "    def shuffle(self):\n",
    "        if len(self.cards)<52:\n",
    "            print('Only Full Deck can be shuffled')\n",
    "        else :\n",
    "            import random\n",
    "            random.shuffle(self.cards)\n",
    "            return self.cards\n",
    "        \n",
    "    def deal(self):\n",
    "        if len(self.cards)==0:\n",
    "            print(\"All Cards have been dealt\")\n",
    "        return self.cards.pop()"
   ]
  },
  {
   "cell_type": "code",
   "execution_count": 10,
   "metadata": {},
   "outputs": [
    {
     "name": "stdout",
     "output_type": "stream",
     "text": [
      "Diamond->2\n",
      "Clubs->2\n",
      "Diamond->3\n",
      "Remaining Cards : 49\n"
     ]
    }
   ],
   "source": [
    "deck=Deck()\n",
    "deck.shuffle()\n",
    "print(deck.deal())\n",
    "print(deck.deal())\n",
    "print(deck.deal())\n",
    "print(deck)\n",
    "\n"
   ]
  },
  {
   "cell_type": "code",
   "execution_count": null,
   "metadata": {},
   "outputs": [],
   "source": []
  }
 ],
 "metadata": {
  "kernelspec": {
   "display_name": "Python 3",
   "language": "python",
   "name": "python3"
  },
  "language_info": {
   "codemirror_mode": {
    "name": "ipython",
    "version": 3
   },
   "file_extension": ".py",
   "mimetype": "text/x-python",
   "name": "python",
   "nbconvert_exporter": "python",
   "pygments_lexer": "ipython3",
   "version": "3.11.9"
  }
 },
 "nbformat": 4,
 "nbformat_minor": 2
}
