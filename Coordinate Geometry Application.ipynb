{
 "cells": [
  {
   "cell_type": "markdown",
   "metadata": {},
   "source": [
    "Write OOP Classes to handle the scenario :\n",
    "1. A User can create and view 2D Coordinates\n",
    "2. A user can find out the distance between two coordinates\n",
    "3. A User can find the distance of a coordinate from origin\n",
    "4. A user can check if a point lies on a line\n",
    "5. A user can find the distance between a given 2D coordinate and a given line"
   ]
  },
  {
   "cell_type": "code",
   "execution_count": 38,
   "metadata": {},
   "outputs": [],
   "source": [
    "class point:\n",
    "    def __init__(self,x,y):\n",
    "        self.x_cod=x\n",
    "        self.y_cod=y\n",
    "\n",
    "    def __str__(self):\n",
    "        return \"({},{})\".format(self.x_cod,self.y_cod)\n",
    "    \n",
    "    def eq_distance(self,other):\n",
    "        return ((self.x_cod-other.x_cod)**2+(self.y_cod-other.y_cod)**2)**0.5\n",
    "    def distance_from_origin(self):\n",
    "        return self.eq_distance(point(0,0))\n",
    "    \n",
    "class Line:\n",
    "    def __init__(self,a,b,c):\n",
    "        self.A=a\n",
    "        self.B=b\n",
    "        self.C=c\n",
    "    def __str__(self):\n",
    "        \n",
    "        return \"{}x+{}y+{}\".format(self.A,self.B,self.C)\n",
    "    def point_on_line (line,point):\n",
    "        if line.A*point.x_cod+line.B*point.y_cod+line.C==0:\n",
    "            return \"point is on line\"\n",
    "        else :\n",
    "            return \"Point does not lie on line\"\n",
    "    def shortest_distance(line,point):\n",
    "        return abs(line.A*point.x_cod + line.B*point.y_cod + line.C)/(line.A**2+line.B**2)\n",
    "\n"
   ]
  },
  {
   "cell_type": "markdown",
   "metadata": {},
   "source": []
  },
  {
   "cell_type": "code",
   "execution_count": 13,
   "metadata": {},
   "outputs": [],
   "source": [
    "p1=point(2,3)"
   ]
  },
  {
   "cell_type": "code",
   "execution_count": 14,
   "metadata": {},
   "outputs": [
    {
     "name": "stdout",
     "output_type": "stream",
     "text": [
      "(2,3)\n"
     ]
    }
   ],
   "source": [
    "print(p1)"
   ]
  },
  {
   "cell_type": "code",
   "execution_count": 15,
   "metadata": {},
   "outputs": [],
   "source": [
    "p2=point(3,4)"
   ]
  },
  {
   "cell_type": "code",
   "execution_count": 16,
   "metadata": {},
   "outputs": [
    {
     "data": {
      "text/plain": [
       "1.4142135623730951"
      ]
     },
     "execution_count": 16,
     "metadata": {},
     "output_type": "execute_result"
    }
   ],
   "source": [
    "p1.eq_distance(p2)"
   ]
  },
  {
   "cell_type": "code",
   "execution_count": 19,
   "metadata": {},
   "outputs": [
    {
     "data": {
      "text/plain": [
       "1.4142135623730951"
      ]
     },
     "execution_count": 19,
     "metadata": {},
     "output_type": "execute_result"
    }
   ],
   "source": [
    "point.eq_distance(p1,p2)"
   ]
  },
  {
   "cell_type": "code",
   "execution_count": 27,
   "metadata": {},
   "outputs": [
    {
     "data": {
      "text/plain": [
       "3.605551275463989"
      ]
     },
     "execution_count": 27,
     "metadata": {},
     "output_type": "execute_result"
    }
   ],
   "source": [
    "point.distance_from_origin(p1)"
   ]
  },
  {
   "cell_type": "code",
   "execution_count": 33,
   "metadata": {},
   "outputs": [
    {
     "name": "stdout",
     "output_type": "stream",
     "text": [
      "1x+2y+3\n"
     ]
    }
   ],
   "source": [
    "l=Line(1,2,3)\n",
    "print(l)"
   ]
  },
  {
   "cell_type": "code",
   "execution_count": 37,
   "metadata": {},
   "outputs": [
    {
     "data": {
      "text/plain": [
       "'Point does not lie on line'"
      ]
     },
     "execution_count": 37,
     "metadata": {},
     "output_type": "execute_result"
    }
   ],
   "source": [
    "Line.point_on_line(l,p1)"
   ]
  },
  {
   "cell_type": "code",
   "execution_count": 39,
   "metadata": {},
   "outputs": [
    {
     "data": {
      "text/plain": [
       "2.2"
      ]
     },
     "execution_count": 39,
     "metadata": {},
     "output_type": "execute_result"
    }
   ],
   "source": [
    "Line.shortest_distance(l,p1)"
   ]
  },
  {
   "cell_type": "code",
   "execution_count": null,
   "metadata": {},
   "outputs": [],
   "source": []
  }
 ],
 "metadata": {
  "kernelspec": {
   "display_name": "Python 3",
   "language": "python",
   "name": "python3"
  },
  "language_info": {
   "codemirror_mode": {
    "name": "ipython",
    "version": 3
   },
   "file_extension": ".py",
   "mimetype": "text/x-python",
   "name": "python",
   "nbconvert_exporter": "python",
   "pygments_lexer": "ipython3",
   "version": "3.11.9"
  }
 },
 "nbformat": 4,
 "nbformat_minor": 2
}
