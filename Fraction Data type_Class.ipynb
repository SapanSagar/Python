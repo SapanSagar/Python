{
 "cells": [
  {
   "cell_type": "code",
   "execution_count": 15,
   "metadata": {},
   "outputs": [],
   "source": [
    "class Fraction:\n",
    "    #parameterized Constructor\n",
    "    def __init__(self,x,y):\n",
    "        self.num=x\n",
    "        self.den=y\n",
    "    def __str__(self):\n",
    "        return '{}/{}'.format(self.num,self.den)\n",
    "    def __add__(self,other):\n",
    "        new_num=(self.num*other.den)+(self.den*other.num)\n",
    "        new_den=self.den*other.den\n",
    "        return '{}/{}'.format(new_num,new_den)\n",
    "    def __sub__(self,other):\n",
    "        new_num=self.num*other.den-self.den*other.num\n",
    "        new_den=self.den*other.den\n",
    "        return '{}/{}'.format(new_num,new_den)\n",
    "    def __mul__(self,other):\n",
    "        new_num=self.num*other.num\n",
    "        new_den=self.den*other.den\n",
    "        return '{}/{}'.format(new_num,new_den)\n",
    "    def __truediv__(self,other):\n",
    "        new_num=self.num*other.den\n",
    "        new_den=self.den*other.num\n",
    "        return '{}/{}'.format(new_num,new_den)\n",
    "\n",
    "\n"
   ]
  },
  {
   "cell_type": "code",
   "execution_count": 16,
   "metadata": {},
   "outputs": [],
   "source": [
    "fr1=Fraction(2,3)\n",
    "fr2=Fraction(1,3)"
   ]
  },
  {
   "cell_type": "code",
   "execution_count": 17,
   "metadata": {},
   "outputs": [
    {
     "name": "stdout",
     "output_type": "stream",
     "text": [
      "12/9\n"
     ]
    }
   ],
   "source": [
    "print(fr1+fr1)"
   ]
  },
  {
   "cell_type": "markdown",
   "metadata": {},
   "source": [
    "Q-1: Rectangle Class\n",
    "Write a Rectangle class in Python language, allowing you to build a rectangle with length and width attributes.\n",
    "\n",
    "Create a Perimeter() method to calculate the perimeter of the rectangle and a Area() method to calculate the area of ​​the rectangle.\n",
    "\n",
    "Eg. After making above classes and methods, on executing below code:-\n",
    "\n",
    "my_rectangle = Rectangle(3 , 4)\n",
    "my_rectangle.display()\n",
    "Output:\n",
    "\n",
    "The length of rectangle is:  3\n",
    "The width of rectangle is:  4\n",
    "The perimeter of rectangle is:  14\n",
    "The area of rectangle is:  12"
   ]
  },
  {
   "cell_type": "code",
   "execution_count": 66,
   "metadata": {},
   "outputs": [],
   "source": [
    "class Rectangle:\n",
    "    def __init__(self,x,y):\n",
    "        self.len=x\n",
    "        self.wid=y\n",
    "    def area(self):\n",
    "        \n",
    "        return self.len*self.wid\n",
    "    def perimeter(self):\n",
    "        return (self.len+self.wid)*2\n",
    "\n",
    "\n",
    "    def display(self):\n",
    "        print ('The Length of Rectangle is : ', self.len)\n",
    "        print ('The Width of Rectangle is : ', self.wid)\n",
    "        print ('The Perimeter of Rectangle is : ', self.perimeter())\n",
    "        print ('The Area of Rectangle is : ', self.area())\n",
    "\n",
    "        \n",
    "\n",
    "        \n"
   ]
  },
  {
   "cell_type": "code",
   "execution_count": 67,
   "metadata": {},
   "outputs": [],
   "source": [
    "my_rectangle=Rectangle(2,3)"
   ]
  },
  {
   "cell_type": "code",
   "execution_count": 69,
   "metadata": {},
   "outputs": [
    {
     "data": {
      "text/plain": [
       "6"
      ]
     },
     "execution_count": 69,
     "metadata": {},
     "output_type": "execute_result"
    }
   ],
   "source": [
    "my_rectangle.area()"
   ]
  },
  {
   "cell_type": "markdown",
   "metadata": {},
   "source": [
    "Q-2: Bank Class\n",
    "Create a Python class called BankAccount which represents a bank account, having as attributes: accountNumber (numeric type), name (name of the account owner as string type), balance.\n",
    "Create a constructor with parameters: accountNumber, name, balance.\n",
    "Create a Deposit() method which manages the deposit actions.\n",
    "Create a Withdrawal() method which manages withdrawals actions.\n",
    "Create an bankFees() method to apply the bank fees with a percentage of 5% of the balance account.\n",
    "Create a display() method to display account details. Give the complete code for the BankAccount class.\n",
    "Eg. After making above classes and methods, on executing below code:-\n",
    "\n",
    "newAccount = BankAccount(2178514584, \"Mandy\" , 2800)\n",
    "\n",
    "newAccount.Withdrawal(700)\n",
    "\n",
    "newAccount.Deposit(1000)\n",
    "\n",
    "newAccount.display()\n",
    "Output:\n",
    "\n",
    "Account Number :  2178514584\n",
    "Account Name :  Mandy\n",
    "Account Balance :  3100 ₹"
   ]
  },
  {
   "cell_type": "code",
   "execution_count": 55,
   "metadata": {},
   "outputs": [],
   "source": [
    "class BankAccount:\n",
    "    def __init__(self,ac : int,name : str,bal):\n",
    "        self.account=ac\n",
    "        self.name=name\n",
    "        self.bal=bal\n",
    "    def __str__(self):\n",
    "        return 'account : {},name : {},balance : {}'.format(self.account,self.name,self.bal)\n",
    "    def deposit(self,dep_amount):\n",
    "        \n",
    "        new_bal=dep_amount+self.bal\n",
    "        self.bal=new_bal\n",
    "        \n",
    "    def Withdrawal(self,with_amount):\n",
    "        \n",
    "        if with_amount<=self.bal:\n",
    "            new_bal = self.bal-with_amount\n",
    "            reduction=self.BankFees()\n",
    "            new_bal=new_bal-reduction\n",
    "            self.bal=new_bal\n",
    "            \n",
    "        else :\n",
    "            print(\"Insufficient Funds\")\n",
    "        \n",
    "    def BankFees(self):\n",
    "        return self.bal*0.005\n",
    "    def display(self):\n",
    "        print ('Account Number : ', self.account)\n",
    "        print ('Acount name : ', self.name)\n",
    "        print ('Account balance : ', self.bal)\n",
    "\n",
    "\n",
    "        \n",
    "        \n"
   ]
  },
  {
   "cell_type": "code",
   "execution_count": 57,
   "metadata": {},
   "outputs": [],
   "source": [
    "newaccount=BankAccount(1234,'sapan',10000)"
   ]
  },
  {
   "cell_type": "code",
   "execution_count": 58,
   "metadata": {},
   "outputs": [
    {
     "name": "stdout",
     "output_type": "stream",
     "text": [
      "Account Number :  1234\n",
      "Acount name :  sapan\n",
      "Account balance :  8945.0\n"
     ]
    }
   ],
   "source": [
    "newaccount.deposit(1000)\n",
    "newaccount.Withdrawal(2000)\n",
    "newaccount.display()"
   ]
  },
  {
   "cell_type": "code",
   "execution_count": 51,
   "metadata": {},
   "outputs": [
    {
     "name": "stdout",
     "output_type": "stream",
     "text": [
      "Withdrawal successful.Remaining Balance is  15000\n"
     ]
    }
   ],
   "source": [
    "obj.Withdrawal()\n"
   ]
  },
  {
   "cell_type": "code",
   "execution_count": null,
   "metadata": {},
   "outputs": [],
   "source": []
  }
 ],
 "metadata": {
  "kernelspec": {
   "display_name": "Python 3",
   "language": "python",
   "name": "python3"
  },
  "language_info": {
   "codemirror_mode": {
    "name": "ipython",
    "version": 3
   },
   "file_extension": ".py",
   "mimetype": "text/x-python",
   "name": "python",
   "nbconvert_exporter": "python",
   "pygments_lexer": "ipython3",
   "version": "3.11.9"
  }
 },
 "nbformat": 4,
 "nbformat_minor": 2
}
